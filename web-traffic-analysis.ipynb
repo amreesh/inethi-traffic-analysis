{
 "cells": [
  {
   "cell_type": "markdown",
   "metadata": {},
   "source": [
    "# Web Traffic Analysis\n",
    "This covers the web traffic analysis of the iNethi network at three vantage points (mesh, school, servers)"
   ]
  },
  {
   "cell_type": "code",
   "execution_count": 24,
   "metadata": {},
   "outputs": [],
   "source": [
    "import pandas as pd\n",
    "import numpy as np\n",
    "import matplotlib.pyplot as plt\n",
    "from matplotlib.dates import DateFormatter\n",
    "import matplotlib.dates as mdates\n",
    "import calendar\n",
    "from scipy.stats import describe\n",
    "from scipy import stats\n",
    "from user_agents import parse\n",
    "\n",
    "\n",
    "import seaborn as sns\n",
    "#sns.set(style=\"ticks\", palette=\"pastel\")\n",
    "\n",
    "plt.style.use('default')"
   ]
  },
  {
   "cell_type": "code",
   "execution_count": 8,
   "metadata": {},
   "outputs": [],
   "source": [
    "df_mesh = pd.read_csv('data/stats/http/mesh.csv', sep='|', error_bad_lines=False, low_memory=False)\n",
    "df_school = pd.read_csv('data/stats/http/school.csv', sep='|', error_bad_lines=False, low_memory=False)\n",
    "df_servers = pd.read_csv('data/stats/http/servers.csv', sep='|', error_bad_lines=False, low_memory=False)"
   ]
  },
  {
   "cell_type": "markdown",
   "metadata": {},
   "source": [
    "## User-agents\n",
    "Study the different types of user-agents and extract the phone and browser used"
   ]
  },
  {
   "cell_type": "code",
   "execution_count": 25,
   "metadata": {},
   "outputs": [],
   "source": [
    "df_user_agents = pd.DataFrame(df_mesh.user_agent.unique(), columns=['ua'])"
   ]
  },
  {
   "cell_type": "code",
   "execution_count": 70,
   "metadata": {},
   "outputs": [
    {
     "data": {
      "text/html": [
       "<div>\n",
       "<style scoped>\n",
       "    .dataframe tbody tr th:only-of-type {\n",
       "        vertical-align: middle;\n",
       "    }\n",
       "\n",
       "    .dataframe tbody tr th {\n",
       "        vertical-align: top;\n",
       "    }\n",
       "\n",
       "    .dataframe thead th {\n",
       "        text-align: right;\n",
       "    }\n",
       "</style>\n",
       "<table border=\"1\" class=\"dataframe\">\n",
       "  <thead>\n",
       "    <tr style=\"text-align: right;\">\n",
       "      <th></th>\n",
       "      <th>ua</th>\n",
       "      <th>brand</th>\n",
       "      <th>os</th>\n",
       "      <th>browser</th>\n",
       "      <th>mobile</th>\n",
       "      <th>tablet</th>\n",
       "      <th>pc</th>\n",
       "      <th>bot</th>\n",
       "      <th>touch</th>\n",
       "    </tr>\n",
       "  </thead>\n",
       "  <tbody>\n",
       "    <tr>\n",
       "      <th>0</th>\n",
       "      <td>Avast NCC</td>\n",
       "      <td>Other</td>\n",
       "      <td>Other</td>\n",
       "      <td>Other</td>\n",
       "      <td>False</td>\n",
       "      <td>False</td>\n",
       "      <td>False</td>\n",
       "      <td>False</td>\n",
       "      <td>False</td>\n",
       "    </tr>\n",
       "    <tr>\n",
       "      <th>1</th>\n",
       "      <td>Mozilla/5.0 (X11; Linux x86_64) AppleWebKit/53...</td>\n",
       "      <td>PC</td>\n",
       "      <td>Linux</td>\n",
       "      <td>Chrome 60.0.3112</td>\n",
       "      <td>False</td>\n",
       "      <td>False</td>\n",
       "      <td>True</td>\n",
       "      <td>False</td>\n",
       "      <td>False</td>\n",
       "    </tr>\n",
       "    <tr>\n",
       "      <th>2</th>\n",
       "      <td>Dalvik/1.6.0 (Linux; U; Android 4.3; GT-I9500 ...</td>\n",
       "      <td>Samsung GT-I9500</td>\n",
       "      <td>Android 4.3</td>\n",
       "      <td>Android 4.3</td>\n",
       "      <td>False</td>\n",
       "      <td>True</td>\n",
       "      <td>False</td>\n",
       "      <td>False</td>\n",
       "      <td>True</td>\n",
       "    </tr>\n",
       "    <tr>\n",
       "      <th>3</th>\n",
       "      <td>Dalvik/2.1.0 (Linux; U; Android 8.1.0; ASTRO B...</td>\n",
       "      <td>ASTRO</td>\n",
       "      <td>Android 8.1.0</td>\n",
       "      <td>Android 8.1.0</td>\n",
       "      <td>False</td>\n",
       "      <td>True</td>\n",
       "      <td>False</td>\n",
       "      <td>False</td>\n",
       "      <td>True</td>\n",
       "    </tr>\n",
       "    <tr>\n",
       "      <th>4</th>\n",
       "      <td>Dalvik/2.1.0 (Linux; U; Android 7.0; S61 JAZZ ...</td>\n",
       "      <td>S61 JAZZ</td>\n",
       "      <td>Android 7.0</td>\n",
       "      <td>Android 7.0</td>\n",
       "      <td>False</td>\n",
       "      <td>True</td>\n",
       "      <td>False</td>\n",
       "      <td>False</td>\n",
       "      <td>True</td>\n",
       "    </tr>\n",
       "  </tbody>\n",
       "</table>\n",
       "</div>"
      ],
      "text/plain": [
       "                                                  ua              brand  \\\n",
       "0                                          Avast NCC             Other    \n",
       "1  Mozilla/5.0 (X11; Linux x86_64) AppleWebKit/53...                PC    \n",
       "2  Dalvik/1.6.0 (Linux; U; Android 4.3; GT-I9500 ...  Samsung GT-I9500    \n",
       "3  Dalvik/2.1.0 (Linux; U; Android 8.1.0; ASTRO B...             ASTRO    \n",
       "4  Dalvik/2.1.0 (Linux; U; Android 7.0; S61 JAZZ ...          S61 JAZZ    \n",
       "\n",
       "                os            browser mobile tablet     pc    bot  touch  \n",
       "0           Other               Other  False  False  False  False  False  \n",
       "1           Linux    Chrome 60.0.3112  False  False   True  False  False  \n",
       "2     Android 4.3         Android 4.3  False   True  False  False   True  \n",
       "3   Android 8.1.0       Android 8.1.0  False   True  False  False   True  \n",
       "4     Android 7.0         Android 7.0  False   True  False  False   True  "
      ]
     },
     "execution_count": 70,
     "metadata": {},
     "output_type": "execute_result"
    }
   ],
   "source": [
    "df_uas = pd.DataFrame(columns=['ua', 'brand', 'os', 'browser', 'mobile', 'tablet', 'pc', 'bot','touch'])\n",
    "\n",
    "ua_mesh_array = np.array(df_mesh.user_agent.unique())\n",
    "ua_school_array = np.array(df_school.user_agent.unique())\n",
    "ua_servers_array = np.array(df_servers.user_agent.unique())\n",
    "\n",
    "ua_array = np.concatenate((ua_mesh_array, ua_school_array, ua_servers_array), axis=0)\n",
    "\n",
    "ua_array = ua_array[~pd.isnull(ua_array)]\n",
    "\n",
    "for ua_string in ua_array:\n",
    "    user_agent = parse(ua_string)\n",
    "    summary = str(user_agent)\n",
    "    df_uas = df_uas.append({'ua' : ua_string, \n",
    "                           'brand': summary.split('/')[0] , \n",
    "                           'os': summary.split('/')[1] , \n",
    "                           'browser': summary.split('/')[2], \n",
    "                           'mobile': user_agent.is_mobile, \n",
    "                           'tablet': user_agent.is_tablet , \n",
    "                           'pc': user_agent.is_pc, \n",
    "                           'bot': user_agent.is_bot,\n",
    "                           'touch': user_agent.is_touch_capable}, ignore_index=True)\n",
    "df_uas.head()"
   ]
  },
  {
   "cell_type": "code",
   "execution_count": null,
   "metadata": {},
   "outputs": [],
   "source": [
    "df_host = df_mesh.groupby(['host']).count()[['ip_src']]"
   ]
  },
  {
   "cell_type": "code",
   "execution_count": null,
   "metadata": {},
   "outputs": [],
   "source": []
  }
 ],
 "metadata": {
  "kernelspec": {
   "display_name": "Python 3",
   "language": "python",
   "name": "python3"
  },
  "language_info": {
   "codemirror_mode": {
    "name": "ipython",
    "version": 3
   },
   "file_extension": ".py",
   "mimetype": "text/x-python",
   "name": "python",
   "nbconvert_exporter": "python",
   "pygments_lexer": "ipython3",
   "version": "3.6.5"
  }
 },
 "nbformat": 4,
 "nbformat_minor": 2
}
